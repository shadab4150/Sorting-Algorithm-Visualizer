{
 "cells": [
  {
   "cell_type": "markdown",
   "metadata": {},
   "source": [
    "<center><h1> Sorting Algorithms Visualizer.</h1></center>\n",
    "<center><h3>Made Using Matplotlib Animation.</h3></center>\n",
    "<ceter><img src='https://miro.medium.com/max/1400/0*qwkWXc-wzW2D8ggV.jpg'></center>"
   ]
  },
  {
   "cell_type": "markdown",
   "metadata": {},
   "source": [
    "### Sorting Algorithms \n",
    "* Quick Sort\n",
    "* Merge Sort\n",
    "* Insertion Sort\n",
    "* Selection Sort\n",
    "* Bubble Sort"
   ]
  },
  {
   "cell_type": "markdown",
   "metadata": {},
   "source": [
    "# Importing Libraries to be used."
   ]
  },
  {
   "cell_type": "code",
   "execution_count": 1,
   "metadata": {},
   "outputs": [],
   "source": [
    "import random\n",
    "import time\n",
    "import matplotlib.pyplot as plt\n",
    "import seaborn as sns\n",
    "import matplotlib.animation as animation"
   ]
  },
  {
   "cell_type": "code",
   "execution_count": 2,
   "metadata": {},
   "outputs": [],
   "source": [
    "sns.set_style('darkgrid')"
   ]
  },
  {
   "cell_type": "markdown",
   "metadata": {},
   "source": [
    "### Helper function to swap elements i and j of list."
   ]
  },
  {
   "cell_type": "code",
   "execution_count": 12,
   "metadata": {},
   "outputs": [],
   "source": [
    "def swap(A, i, j):\n",
    "    \"\"\"Helper function to swap elements i and j of list.\"\"\"\n",
    "\n",
    "    if i != j:\n",
    "        A[i], A[j] = A[j], A[i]"
   ]
  },
  {
   "cell_type": "markdown",
   "metadata": {},
   "source": [
    "# Bubble Sort Algorithm"
   ]
  },
  {
   "cell_type": "code",
   "execution_count": 4,
   "metadata": {},
   "outputs": [],
   "source": [
    "def bubblesort(A):\n",
    "    \"\"\"In-place bubble sort.\"\"\"\n",
    "\n",
    "    if len(A) == 1:\n",
    "        return\n",
    "\n",
    "    swapped = True\n",
    "    for i in range(len(A) - 1):\n",
    "        if not swapped:\n",
    "            break\n",
    "        swapped = False\n",
    "        for j in range(len(A) - 1 - i):\n",
    "            if A[j] > A[j + 1]:\n",
    "                swap(A, j, j + 1)\n",
    "                swapped = True\n",
    "            yield A"
   ]
  },
  {
   "cell_type": "markdown",
   "metadata": {},
   "source": [
    "# Insertion sort Algorithm"
   ]
  },
  {
   "cell_type": "code",
   "execution_count": 5,
   "metadata": {},
   "outputs": [],
   "source": [
    "def insertionsort(A):\n",
    "    \"\"\"In-place insertion sort.\"\"\"\n",
    "\n",
    "    for i in range(1, len(A)):\n",
    "        j = i\n",
    "        while j > 0 and A[j] < A[j - 1]:\n",
    "            swap(A, j, j - 1)\n",
    "            j -= 1\n",
    "            yield A"
   ]
  },
  {
   "cell_type": "markdown",
   "metadata": {},
   "source": [
    "# Merge sort Algorithm"
   ]
  },
  {
   "cell_type": "code",
   "execution_count": 6,
   "metadata": {},
   "outputs": [],
   "source": [
    "\n",
    "def mergesort(A, start, end):\n",
    "    \"\"\"Merge sort.\"\"\"\n",
    "\n",
    "    if end <= start:\n",
    "        return\n",
    "\n",
    "    mid = start + ((end - start + 1) // 2) - 1\n",
    "    yield from mergesort(A, start, mid)\n",
    "    yield from mergesort(A, mid + 1, end)\n",
    "    yield from merge(A, start, mid, end)\n",
    "    yield A"
   ]
  },
  {
   "cell_type": "markdown",
   "metadata": {},
   "source": [
    "# Algorithm to merge sublists"
   ]
  },
  {
   "cell_type": "code",
   "execution_count": 7,
   "metadata": {},
   "outputs": [],
   "source": [
    "def merge(A, start, mid, end):\n",
    "    \"\"\"Helper function for merge sort.\"\"\"\n",
    "    \n",
    "    merged = []\n",
    "    leftIdx = start\n",
    "    rightIdx = mid + 1\n",
    "\n",
    "    while leftIdx <= mid and rightIdx <= end:\n",
    "        if A[leftIdx] < A[rightIdx]:\n",
    "            merged.append(A[leftIdx])\n",
    "            leftIdx += 1\n",
    "        else:\n",
    "            merged.append(A[rightIdx])\n",
    "            rightIdx += 1\n",
    "\n",
    "    while leftIdx <= mid:\n",
    "        merged.append(A[leftIdx])\n",
    "        leftIdx += 1\n",
    "\n",
    "    while rightIdx <= end:\n",
    "        merged.append(A[rightIdx])\n",
    "        rightIdx += 1\n",
    "\n",
    "    for i, sorted_val in enumerate(merged):\n",
    "        A[start + i] = sorted_val\n",
    "        yield A"
   ]
  },
  {
   "cell_type": "markdown",
   "metadata": {},
   "source": [
    "# Quick Sort Algorithm"
   ]
  },
  {
   "cell_type": "code",
   "execution_count": 8,
   "metadata": {},
   "outputs": [],
   "source": [
    "\n",
    "def quicksort(A, start, end):\n",
    "    \"\"\"In-place quicksort.\"\"\"\n",
    "\n",
    "    if start >= end:\n",
    "        return\n",
    "\n",
    "    pivot = A[end]\n",
    "    pivotIdx = start\n",
    "\n",
    "    for i in range(start, end):\n",
    "        if A[i] < pivot:\n",
    "            swap(A, i, pivotIdx)\n",
    "            pivotIdx += 1\n",
    "        yield A\n",
    "    swap(A, end, pivotIdx)\n",
    "    yield A\n",
    "\n",
    "    yield from quicksort(A, start, pivotIdx - 1)\n",
    "    yield from quicksort(A, pivotIdx + 1, end)"
   ]
  },
  {
   "cell_type": "markdown",
   "metadata": {},
   "source": [
    "# Selection Sort Algorithm"
   ]
  },
  {
   "cell_type": "code",
   "execution_count": 9,
   "metadata": {},
   "outputs": [],
   "source": [
    "def selectionsort(A):\n",
    "    \"\"\"In-place selection sort.\"\"\"\n",
    "    if len(A) == 1:\n",
    "        return\n",
    "\n",
    "    for i in range(len(A)):\n",
    "        # Find minimum unsorted value.\n",
    "        minVal = A[i]\n",
    "        minIdx = i\n",
    "        for j in range(i, len(A)):\n",
    "            if A[j] < minVal:\n",
    "                minVal = A[j]\n",
    "                minIdx = j\n",
    "            yield A\n",
    "        swap(A, i, minIdx)\n",
    "        yield A"
   ]
  },
  {
   "cell_type": "markdown",
   "metadata": {},
   "source": [
    "# Function to give a new color each time"
   ]
  },
  {
   "cell_type": "code",
   "execution_count": 10,
   "metadata": {},
   "outputs": [],
   "source": [
    "def colors(N):\n",
    "        if N%5==0:\n",
    "            colors='skyblue'\n",
    "        elif N%5==1:\n",
    "            colors='green'\n",
    "        elif N%5==2:\n",
    "            colors='orange'\n",
    "        elif N%5==3:\n",
    "            colors='red'\n",
    "        elif N%5==4:\n",
    "            colors='pink'\n",
    "        return colors"
   ]
  },
  {
   "cell_type": "markdown",
   "metadata": {},
   "source": [
    "# Main function for Image Animation and plotting"
   ]
  },
  {
   "cell_type": "code",
   "execution_count": 11,
   "metadata": {},
   "outputs": [
    {
     "name": "stdin",
     "output_type": "stream",
     "text": [
      "Enter number of integers:  12\n",
      "Enter sorting method:\n",
      "(b)ubble\n",
      "(i)nsertion\n",
      "(m)erge         \n",
      "(q)uick\n",
      "(s)election\n",
      " b\n"
     ]
    },
    {
     "data": {
      "image/png": "[encoded data removed]",
      "text/plain": [
       "<Figure size 432x288 with 1 Axes>"
      ]
     },
     "metadata": {},
     "output_type": "display_data"
    }
   ],
   "source": [
    "\n",
    "if __name__ == \"__main__\":\n",
    "   \n",
    "    # Get user input to determine range of integers (1 to N) and desired\n",
    "    \n",
    "    # sorting method (algorithm).\n",
    "    \n",
    "    N = int(input(\"Enter number of integers: \"))\n",
    "    #A=list(map(int,input(\"Enter the Integers :\").split()))\n",
    "    method_msg = \"Enter sorting method:\\n(b)ubble\\n(i)nsertion\\n(m)erge \\\n",
    "        \\n(q)uick\\n(s)election\\n\"\n",
    "    method = input(method_msg)\n",
    "\n",
    "    # Build and randomly shuffle list of integers.\n",
    "    \n",
    "    A = [x + 1 for x in range(20,N+20)]\n",
    "    random.seed(time.time())\n",
    "    random.shuffle(A)\n",
    "    yl1=min(A)\n",
    "    yl2=max(A)\n",
    "\n",
    "    # Get appropriate generator to supply to matplotlib FuncAnimation method.\n",
    "    \n",
    "    if method == \"b\":\n",
    "        title = \"Bubble sort\"\n",
    "        generator = bubblesort(A)\n",
    "    elif method == \"i\":\n",
    "        title = \"Insertion sort\"\n",
    "        generator = insertionsort(A)\n",
    "    elif method == \"m\":\n",
    "        title = \"Merge sort\"\n",
    "        generator = mergesort(A, 0, N - 1)\n",
    "    elif method == \"q\":\n",
    "        title = \"Quick sort\"\n",
    "        generator = quicksort(A, 0, N - 1)\n",
    "    else:\n",
    "        title = \"Selection sort\"\n",
    "        generator = selectionsort(A)\n",
    "    \n",
    "    fig, ax = plt.subplots()\n",
    "    ax.set_title(title)\n",
    "\n",
    "    # Initializing a bar plot.\n",
    "    \n",
    "    bar_rects = ax.bar(range(len(A)), A, align=\"edge\",color=colors(N))\n",
    "\n",
    "    # Set axis limits. Set y axis upper limit high enough that the tops of\n",
    "    # the bars won't overlap with the text label.\n",
    "    \n",
    "    ax.set_xlim(0,N)\n",
    "    ax.set_ylim(max(yl1-2,0),yl2+2)\n",
    "\n",
    "    # Place a text label in the upper-left corner of the plot to display\n",
    "    # number of operations performed. \n",
    "    \n",
    "    text = ax.text(0.02, 0.95, \"\", transform=ax.transAxes)\n",
    "\n",
    "    # Define function update_fig() for use with matplotlib.pyplot.FuncAnimation().\n",
    "    # To track the number of operations, i.e., iterations\n",
    "    \n",
    "    iteration = [0]\n",
    "    def update_fig(A, rects, iteration):\n",
    "        for rect, val in zip(rects, A):\n",
    "            rect.set_height(val)\n",
    "        iteration[0] += 1\n",
    "        text.set_text(\"# Number of operations: {}\".format(iteration[0]))\n",
    "\n",
    "    anim = animation.FuncAnimation(fig, func=update_fig,\n",
    "        fargs=(bar_rects, iteration), frames=generator, interval=2,\n",
    "        repeat=False)\n",
    "    plt.show()\n"
   ]
  },
  {
   "cell_type": "markdown",
   "metadata": {},
   "source": [
    "<center><h1> Below is a Example.</h1></center>"
   ]
  },
  {
   "cell_type": "markdown",
   "metadata": {},
   "source": [
    "<center><img src='https://i.ibb.co/LQbCvgN/ezgif-com-crop.gif' width=\"700\"></center>"
   ]
  },
  {
   "cell_type": "code",
   "execution_count": null,
   "metadata": {},
   "outputs": [],
   "source": []
  },
  {
   "cell_type": "code",
   "execution_count": null,
   "metadata": {},
   "outputs": [],
   "source": []
  }
 ],
 "metadata": {
  "kernelspec": {
   "display_name": "Python 3",
   "language": "python",
   "name": "python3"
  },
  "language_info": {
   "codemirror_mode": {
    "name": "ipython",
    "version": 3
   },
   "file_extension": ".py",
   "mimetype": "text/x-python",
   "name": "python",
   "nbconvert_exporter": "python",
   "pygments_lexer": "ipython3",
   "version": "3.6.8"
  }
 },
 "nbformat": 4,
 "nbformat_minor": 2
}
